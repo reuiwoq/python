{
 "cells": [
  {
   "cell_type": "code",
   "execution_count": 1,
   "id": "10c01d73-08ba-48fb-a45f-32d5e95ae07d",
   "metadata": {},
   "outputs": [],
   "source": [
    "from tensorflow import keras\n",
    "import numpy as np"
   ]
  },
  {
   "cell_type": "code",
   "execution_count": 2,
   "id": "03bfbf08-58f8-4e77-b571-3a6f6a123214",
   "metadata": {},
   "outputs": [
    {
     "data": {
      "text/plain": [
       "array([[ 1.  ,  2.88,  2.16,  1.  ,  0.  ,  0.  ,  0.  ,  1.  ,  1.  ,\n",
       "         3.  ,  0.  ,  0.  ,  0.  ,  1.  ,  0.  , 60.  ,  0.  ],\n",
       "       [ 2.  ,  3.4 ,  1.88,  0.  ,  0.  ,  0.  ,  0.  ,  0.  ,  0.  ,\n",
       "         1.  ,  0.  ,  0.  ,  0.  ,  1.  ,  0.  , 51.  ,  0.  ],\n",
       "       [ 2.  ,  2.76,  2.08,  1.  ,  0.  ,  0.  ,  0.  ,  1.  ,  0.  ,\n",
       "         0.  ,  0.  ,  0.  ,  0.  ,  1.  ,  0.  , 59.  ,  0.  ]])"
      ]
     },
     "execution_count": 2,
     "metadata": {},
     "output_type": "execute_result"
    }
   ],
   "source": [
    "data_set = np.loadtxt('data/ThoraricSurgery3.csv', delimiter=\",\")\n",
    "data_set[:3]"
   ]
  },
  {
   "cell_type": "code",
   "execution_count": 3,
   "id": "8a95c33a-bfa8-442b-9d77-1802cb6bcb66",
   "metadata": {},
   "outputs": [],
   "source": [
    "X = data_set[:, :16]\n",
    "Y = data_set[:, 16]"
   ]
  },
  {
   "cell_type": "code",
   "execution_count": 4,
   "id": "8dbd802e-1140-460b-873e-ca17427b37b5",
   "metadata": {},
   "outputs": [
    {
     "data": {
      "text/plain": [
       "array([[ 1.  ,  2.88,  2.16,  1.  ,  0.  ,  0.  ,  0.  ,  1.  ,  1.  ,\n",
       "         3.  ,  0.  ,  0.  ,  0.  ,  1.  ,  0.  , 60.  ],\n",
       "       [ 2.  ,  3.4 ,  1.88,  0.  ,  0.  ,  0.  ,  0.  ,  0.  ,  0.  ,\n",
       "         1.  ,  0.  ,  0.  ,  0.  ,  1.  ,  0.  , 51.  ],\n",
       "       [ 2.  ,  2.76,  2.08,  1.  ,  0.  ,  0.  ,  0.  ,  1.  ,  0.  ,\n",
       "         0.  ,  0.  ,  0.  ,  0.  ,  1.  ,  0.  , 59.  ]])"
      ]
     },
     "execution_count": 4,
     "metadata": {},
     "output_type": "execute_result"
    }
   ],
   "source": [
    "X[:3]"
   ]
  },
  {
   "cell_type": "code",
   "execution_count": 5,
   "id": "59d81669-5821-4456-92e8-8cb95a12c031",
   "metadata": {},
   "outputs": [
    {
     "data": {
      "text/plain": [
       "array([0., 0., 0.])"
      ]
     },
     "execution_count": 5,
     "metadata": {},
     "output_type": "execute_result"
    }
   ],
   "source": [
    "Y[:3]"
   ]
  },
  {
   "cell_type": "code",
   "execution_count": 6,
   "id": "cac8fc81-f085-4371-a45b-6867abaa1435",
   "metadata": {},
   "outputs": [],
   "source": [
    "model = keras.Sequential()\n",
    "model.add(keras.Input(shape=(16,)))\n",
    "model.add(keras.layers.Dense(30, activation='relu'))\n",
    "model.add(keras.layers.Dense(1, activation='sigmoid'))"
   ]
  },
  {
   "cell_type": "code",
   "execution_count": 7,
   "id": "d75b197a-d489-40e4-a707-3247aa876b7d",
   "metadata": {},
   "outputs": [
    {
     "name": "stdout",
     "output_type": "stream",
     "text": [
      "Model: \"sequential\"\n",
      "_________________________________________________________________\n",
      " Layer (type)                Output Shape              Param #   \n",
      "=================================================================\n",
      " dense (Dense)               (None, 30)                510       \n",
      "                                                                 \n",
      " dense_1 (Dense)             (None, 1)                 31        \n",
      "                                                                 \n",
      "=================================================================\n",
      "Total params: 541\n",
      "Trainable params: 541\n",
      "Non-trainable params: 0\n",
      "_________________________________________________________________\n"
     ]
    }
   ],
   "source": [
    "model.summary()"
   ]
  },
  {
   "cell_type": "code",
   "execution_count": 8,
   "id": "5e49da69-e44c-4042-a821-5f5b7b04378f",
   "metadata": {},
   "outputs": [],
   "source": [
    "model.compile(loss='binary_crossentropy', optimizer='adam', metrics=['accuracy'])"
   ]
  },
  {
   "cell_type": "code",
   "execution_count": 9,
   "id": "edfbcd12-6aff-4051-925b-a24af699d615",
   "metadata": {},
   "outputs": [
    {
     "name": "stdout",
     "output_type": "stream",
     "text": [
      "Epoch 1/5\n",
      "30/30 [==============================] - 0s 1ms/step - loss: 19.0489 - accuracy: 0.1489\n",
      "Epoch 2/5\n",
      "30/30 [==============================] - 0s 1000us/step - loss: 6.5010 - accuracy: 0.1787\n",
      "Epoch 3/5\n",
      "30/30 [==============================] - 0s 1ms/step - loss: 0.6003 - accuracy: 0.7851\n",
      "Epoch 4/5\n",
      "30/30 [==============================] - 0s 1ms/step - loss: 0.5024 - accuracy: 0.8511\n",
      "Epoch 5/5\n",
      "30/30 [==============================] - 0s 1ms/step - loss: 0.4703 - accuracy: 0.8489\n"
     ]
    }
   ],
   "source": [
    "history = model.fit(X, Y, epochs=5, batch_size=16)"
   ]
  },
  {
   "cell_type": "code",
   "execution_count": null,
   "id": "bcc3d632-2b49-45f9-9244-db56a45ae337",
   "metadata": {},
   "outputs": [],
   "source": []
  }
 ],
 "metadata": {
  "kernelspec": {
   "display_name": "Python 3 (ipykernel)",
   "language": "python",
   "name": "python3"
  },
  "language_info": {
   "codemirror_mode": {
    "name": "ipython",
    "version": 3
   },
   "file_extension": ".py",
   "mimetype": "text/x-python",
   "name": "python",
   "nbconvert_exporter": "python",
   "pygments_lexer": "ipython3",
   "version": "3.10.13"
  }
 },
 "nbformat": 4,
 "nbformat_minor": 5
}

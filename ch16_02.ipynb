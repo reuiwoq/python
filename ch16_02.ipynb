{
 "cells": [
  {
   "cell_type": "code",
   "execution_count": 1,
   "id": "8c22acc4-4a4e-4688-af27-30dafeffbf2d",
   "metadata": {},
   "outputs": [],
   "source": [
    "from tensorflow import keras\n",
    "from tensorflow.keras.callbacks import ModelCheckpoint,EarlyStopping\n",
    "from tensorflow.keras.datasets import mnist\n",
    "from tensorflow.keras.utils import to_categorical\n",
    "\n",
    "import matplotlib.pyplot as plt\n",
    "import numpy as np\n",
    "\n",
    "import os\n",
    "os.environ['KMP_DUPLICATE_LIB_OK'] = '1'"
   ]
  },
  {
   "cell_type": "code",
   "execution_count": 2,
   "id": "02035516-4d1c-43aa-84cb-10dfc06bf031",
   "metadata": {},
   "outputs": [],
   "source": [
    "(X_train, y_train), (X_test, y_test) = mnist.load_data()"
   ]
  },
  {
   "cell_type": "code",
   "execution_count": 14,
   "id": "0967489b-a0cf-4da8-ac55-613dbb807cf6",
   "metadata": {},
   "outputs": [],
   "source": [
    "X_train = X_train.reshape(X_train.shape[0], 28, 28, 1).astype(float) / 255.\n",
    "X_test = X_test.reshape(X_test.shape[0], 28, 28, 1).astype(float) / 255.\n",
    "y_train = to_categorical(y_train, 10)\n",
    "y_test = to_categorical(y_test, 10)"
   ]
  },
  {
   "cell_type": "code",
   "execution_count": 15,
   "id": "380078da-43e4-4fc6-a625-a7d1e98b8cd8",
   "metadata": {},
   "outputs": [],
   "source": [
    "model = keras.Sequential()\n",
    "model.add(keras.Input(shape=(28, 28, 1)))\n",
    "model.add(keras.layers.Conv2D(32, kernel_size=(3,3), activation='relu'))\n",
    "model.add(keras.layers.Conv2D(64, 3, activation='relu'))\n",
    "model.add(keras.layers.MaxPooling2D(pool_size=(2, 2)))\n",
    "model.add(keras.layers.Dropout(0.25))\n",
    "model.add(keras.layers.Flatten())\n",
    "model.add(keras.layers.Dense(128, activation='relu'))\n",
    "model.add(keras.layers.Dropout(0.25))\n",
    "model.add(keras.layers.Dense(10, activation='softmax'))"
   ]
  },
  {
   "cell_type": "code",
   "execution_count": 7,
   "id": "19bc0c1c-f4e5-495e-9b5b-87b52114c973",
   "metadata": {},
   "outputs": [
    {
     "name": "stdout",
     "output_type": "stream",
     "text": [
      "Model: \"sequential\"\n",
      "_________________________________________________________________\n",
      " Layer (type)                Output Shape              Param #   \n",
      "=================================================================\n",
      " conv2d (Conv2D)             (None, 26, 26, 32)        320       \n",
      "                                                                 \n",
      " conv2d_1 (Conv2D)           (None, 24, 24, 64)        18496     \n",
      "                                                                 \n",
      " max_pooling2d (MaxPooling2D  (None, 12, 12, 64)       0         \n",
      " )                                                               \n",
      "                                                                 \n",
      " dropout (Dropout)           (None, 12, 12, 64)        0         \n",
      "                                                                 \n",
      " flatten (Flatten)           (None, 9216)              0         \n",
      "                                                                 \n",
      " dense (Dense)               (None, 128)               1179776   \n",
      "                                                                 \n",
      " dropout_1 (Dropout)         (None, 128)               0         \n",
      "                                                                 \n",
      " dense_1 (Dense)             (None, 10)                1290      \n",
      "                                                                 \n",
      "=================================================================\n",
      "Total params: 1,199,882\n",
      "Trainable params: 1,199,882\n",
      "Non-trainable params: 0\n",
      "_________________________________________________________________\n"
     ]
    }
   ],
   "source": [
    "model.summary()"
   ]
  },
  {
   "cell_type": "code",
   "execution_count": 17,
   "id": "37fa7e7d-0ffe-4ea1-ba91-92ebae23802b",
   "metadata": {},
   "outputs": [],
   "source": [
    "model.compile(loss='categorical_crossentropy', optimizer='adam', metrics=['accuracy'])"
   ]
  },
  {
   "cell_type": "code",
   "execution_count": 18,
   "id": "8125ad0f-af16-4c2a-8e36-df6dae9a25a8",
   "metadata": {},
   "outputs": [],
   "source": [
    "modelpath = 'model/mnist_cnn.hdf5'\n",
    "checkpointer = ModelCheckpoint(filepath=modelpath, monitor='val_loss', verbose=1, save_best_only=True)\n",
    "early_stopping = EarlyStopping(monitor='val_loss', patience=10)"
   ]
  },
  {
   "cell_type": "code",
   "execution_count": 19,
   "id": "69d49ee7-1e22-4a2d-a409-a0b23d334f18",
   "metadata": {},
   "outputs": [
    {
     "name": "stdout",
     "output_type": "stream",
     "text": [
      "\n",
      "Epoch 1: val_loss improved from inf to 0.07214, saving model to model\\mnist_cnn.hdf5\n",
      "\n",
      "Epoch 2: val_loss improved from 0.07214 to 0.05166, saving model to model\\mnist_cnn.hdf5\n",
      "\n",
      "Epoch 3: val_loss improved from 0.05166 to 0.04607, saving model to model\\mnist_cnn.hdf5\n",
      "\n",
      "Epoch 4: val_loss did not improve from 0.04607\n",
      "\n",
      "Epoch 5: val_loss improved from 0.04607 to 0.04350, saving model to model\\mnist_cnn.hdf5\n",
      "\n",
      "Epoch 6: val_loss improved from 0.04350 to 0.04300, saving model to model\\mnist_cnn.hdf5\n",
      "\n",
      "Epoch 7: val_loss improved from 0.04300 to 0.04299, saving model to model\\mnist_cnn.hdf5\n",
      "\n",
      "Epoch 8: val_loss improved from 0.04299 to 0.04219, saving model to model\\mnist_cnn.hdf5\n",
      "\n",
      "Epoch 9: val_loss improved from 0.04219 to 0.04029, saving model to model\\mnist_cnn.hdf5\n",
      "\n",
      "Epoch 10: val_loss did not improve from 0.04029\n",
      "\n",
      "Epoch 11: val_loss did not improve from 0.04029\n",
      "\n",
      "Epoch 12: val_loss did not improve from 0.04029\n",
      "\n",
      "Epoch 13: val_loss did not improve from 0.04029\n",
      "\n",
      "Epoch 14: val_loss did not improve from 0.04029\n",
      "\n",
      "Epoch 15: val_loss did not improve from 0.04029\n",
      "\n",
      "Epoch 16: val_loss did not improve from 0.04029\n",
      "\n",
      "Epoch 17: val_loss did not improve from 0.04029\n",
      "\n",
      "Epoch 18: val_loss did not improve from 0.04029\n",
      "\n",
      "Epoch 19: val_loss did not improve from 0.04029\n",
      "313/313 [==============================] - 2s 6ms/step - loss: 0.0346 - accuracy: 0.9913\n",
      "\n",
      " Test Accuracy: 0.9913\n"
     ]
    }
   ],
   "source": [
    "history = model.fit(X_train, y_train, validation_split=0.25, epochs=30, batch_size=200,\n",
    "                   callbacks=[early_stopping, checkpointer], verbose=0)\n",
    "print(\"\\n Test Accuracy: %.4f\" % (model.evaluate(X_test, y_test)[1]))"
   ]
  },
  {
   "cell_type": "code",
   "execution_count": 20,
   "id": "5d6cc06b-8eca-49fa-951f-4019f4cf4bbe",
   "metadata": {},
   "outputs": [
    {
     "data": {
      "image/png": "[encoded data removed]",
      "text/plain": [
       "<Figure size 640x480 with 1 Axes>"
      ]
     },
     "metadata": {},
     "output_type": "display_data"
    }
   ],
   "source": [
    "import numpy as np\n",
    "\n",
    "y_vloss = history.history['val_loss']\n",
    "y_loss = history.history['loss']\n",
    "\n",
    "# 그래프로 표현해 봅니다.\n",
    "x_len = np.arange(len(y_loss))\n",
    "plt.plot(x_len, y_vloss, marker='.', c=\"red\", label='Testset_loss')\n",
    "plt.plot(x_len, y_loss, marker='.', c=\"blue\", label='Trainset_loss')\n",
    "\n",
    "# 그래프에 그리드를 주고 레이블을 표시해 보겠습니다.\n",
    "plt.legend(loc='upper right')\n",
    "plt.grid()\n",
    "plt.xlabel('epoch')\n",
    "plt.ylabel('loss')\n",
    "plt.show()"
   ]
  },
  {
   "cell_type": "code",
   "execution_count": null,
   "id": "60be946d-0cde-4c6b-9c6f-461213232b16",
   "metadata": {},
   "outputs": [],
   "source": []
  }
 ],
 "metadata": {
  "kernelspec": {
   "display_name": "Python 3 (ipykernel)",
   "language": "python",
   "name": "python3"
  },
  "language_info": {
   "codemirror_mode": {
    "name": "ipython",
    "version": 3
   },
   "file_extension": ".py",
   "mimetype": "text/x-python",
   "name": "python",
   "nbconvert_exporter": "python",
   "pygments_lexer": "ipython3",
   "version": "3.10.13"
  }
 },
 "nbformat": 4,
 "nbformat_minor": 5
}

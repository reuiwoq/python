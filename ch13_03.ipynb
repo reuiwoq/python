{
 "cells": [
  {
   "cell_type": "code",
   "execution_count": 1,
   "id": "e105ad14-ee96-46bc-ad70-cfaa69abec7d",
   "metadata": {},
   "outputs": [],
   "source": [
    "from tensorflow import keras\n",
    "from sklearn.model_selection import KFold\n",
    "import pandas as pd"
   ]
  },
  {
   "cell_type": "code",
   "execution_count": 2,
   "id": "2f75e9e0-5bed-402f-9d57-0e9921a55b41",
   "metadata": {},
   "outputs": [],
   "source": [
    "df = pd.read_csv('data/sonar3.csv', header=None)\n",
    "X = df.iloc[:, :60]\n",
    "y = df.iloc[:, 60]"
   ]
  },
  {
   "cell_type": "code",
   "execution_count": 3,
   "id": "1d69dfe2-e504-42b9-b0da-0e5de0f3ea81",
   "metadata": {},
   "outputs": [
    {
     "name": "stdout",
     "output_type": "stream",
     "text": [
      "2/2 [==============================] - 0s 0s/step - loss: 0.6185 - accuracy: 0.8333\n",
      "2/2 [==============================] - 0s 0s/step - loss: 0.8453 - accuracy: 0.7143\n",
      "2/2 [==============================] - 0s 2ms/step - loss: 0.9413 - accuracy: 0.7619\n",
      "2/2 [==============================] - 0s 4ms/step - loss: 0.1922 - accuracy: 0.9024\n",
      "WARNING:tensorflow:5 out of the last 9 calls to <function Model.make_test_function.<locals>.test_function at 0x000001C5B3ECFD90> triggered tf.function retracing. Tracing is expensive and the excessive number of tracings could be due to (1) creating @tf.function repeatedly in a loop, (2) passing tensors with different shapes, (3) passing Python objects instead of tensors. For (1), please define your @tf.function outside of the loop. For (2), @tf.function has reduce_retracing=True option that can avoid unnecessary retracing. For (3), please refer to https://www.tensorflow.org/guide/function#controlling_retracing and https://www.tensorflow.org/api_docs/python/tf/function for  more details.\n",
      "2/2 [==============================] - 0s 0s/step - loss: 0.3235 - accuracy: 0.8780\n",
      "정확도: [0.8333333134651184, 0.7142857313156128, 0.761904776096344, 0.9024389982223511, 0.8780487775802612]\n",
      "평균 정확도: 0.82\n"
     ]
    }
   ],
   "source": [
    "#몇 겹으로 나눌 것인지를 정합니다. \n",
    "k=5\n",
    "\n",
    "#KFold 함수를 불러옵니다. 분할하기 전에 샘플이 치우치지 않도록 섞어 줍니다.\n",
    "kfold = KFold(n_splits=k, shuffle=True)\n",
    "\n",
    "#정확도가 채워질 빈 리스트를 준비합니다.\n",
    "acc_score = []\n",
    "\n",
    "def model_fn():\n",
    "    model = keras.Sequential()\n",
    "    model.add(keras.Input(shape=(60,)))\n",
    "    model.add(keras.layers.Dense(24, activation='relu'))\n",
    "    model.add(keras.layers.Dense(10, activation='relu'))\n",
    "    model.add(keras.layers.Dense(1, activation='sigmoid'))\n",
    "    return model\n",
    "\n",
    "#K겹 교차 검증을 이용해 k번의 학습을 실행합니다. \n",
    "for train_index , test_index in kfold.split(X):  # for문에 의해서 k번 반복합니다. spilt()에 의해 k개의 학습셋, 테스트셋으로 분리됩니다.\n",
    "    X_train , X_test = X.iloc[train_index,:], X.iloc[test_index,:]  \n",
    "    y_train , y_test = y.iloc[train_index], y.iloc[test_index]\n",
    "\n",
    "    model = model_fn()\n",
    "    model.compile(loss='binary_crossentropy', optimizer='adam', metrics=['accuracy'])\n",
    "    history=model.fit(X_train, y_train, epochs=200, batch_size=10, verbose=0) \n",
    "    \n",
    "    accuracy = model.evaluate(X_test, y_test)[1]  #정확도를 구합니다.\n",
    "    acc_score.append(accuracy)  #정확도 리스트에 저장합니다.\n",
    "\n",
    "#k번 실시된 정확도의 평균을 구합니다.\n",
    "avg_acc_score = sum(acc_score)/k\n",
    "\n",
    "#결과를 출력합니다.\n",
    "print('정확도:', acc_score)\n",
    "print('평균 정확도: %.2f' % (avg_acc_score))"
   ]
  },
  {
   "cell_type": "code",
   "execution_count": null,
   "id": "7697fffc-5e32-46b5-a987-4b10a921dbbf",
   "metadata": {},
   "outputs": [],
   "source": []
  }
 ],
 "metadata": {
  "kernelspec": {
   "display_name": "Python 3 (ipykernel)",
   "language": "python",
   "name": "python3"
  },
  "language_info": {
   "codemirror_mode": {
    "name": "ipython",
    "version": 3
   },
   "file_extension": ".py",
   "mimetype": "text/x-python",
   "name": "python",
   "nbconvert_exporter": "python",
   "pygments_lexer": "ipython3",
   "version": "3.10.13"
  }
 },
 "nbformat": 4,
 "nbformat_minor": 5
}

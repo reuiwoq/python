{
 "cells": [
  {
   "cell_type": "code",
   "execution_count": 1,
   "id": "cda3118e-4b62-45f7-bd8d-ae57eabce4e9",
   "metadata": {},
   "outputs": [],
   "source": [
    "from tensorflow import keras\n",
    "from sklearn.model_selection import train_test_split\n",
    "import pandas as pd\n",
    "import os\n",
    "import numpy as np\n",
    "import matplotlib.pyplot as plt"
   ]
  },
  {
   "cell_type": "code",
   "execution_count": 3,
   "id": "0f8a4730-c78c-40a5-a132-e5ade87f0888",
   "metadata": {},
   "outputs": [],
   "source": [
    "df = pd.read_csv('data/wine.csv', header=None)\n",
    "X = df.iloc[:, :12]\n",
    "y = df.iloc[:,12]"
   ]
  },
  {
   "cell_type": "code",
   "execution_count": 4,
   "id": "cc6f7c1e-7158-4fd4-8066-63bb76a9bf20",
   "metadata": {},
   "outputs": [],
   "source": [
    "X_train, X_test, y_train, y_test = train_test_split(X, y, test_size=0.2, shuffle=True)"
   ]
  },
  {
   "cell_type": "code",
   "execution_count": 5,
   "id": "71c6a168-a79d-4d30-a2c4-7fb73ebbd4ca",
   "metadata": {},
   "outputs": [
    {
     "name": "stdout",
     "output_type": "stream",
     "text": [
      "Model: \"sequential\"\n",
      "_________________________________________________________________\n",
      " Layer (type)                Output Shape              Param #   \n",
      "=================================================================\n",
      " dense (Dense)               (None, 30)                390       \n",
      "                                                                 \n",
      " dense_1 (Dense)             (None, 12)                372       \n",
      "                                                                 \n",
      " dense_2 (Dense)             (None, 8)                 104       \n",
      "                                                                 \n",
      " dense_3 (Dense)             (None, 1)                 9         \n",
      "                                                                 \n",
      "=================================================================\n",
      "Total params: 875\n",
      "Trainable params: 875\n",
      "Non-trainable params: 0\n",
      "_________________________________________________________________\n"
     ]
    }
   ],
   "source": [
    "model = keras.Sequential()\n",
    "model.add(keras.Input(shape=(12,)))\n",
    "model.add(keras.layers.Dense(30, activation='relu'))\n",
    "model.add(keras.layers.Dense(12, activation='relu'))\n",
    "model.add(keras.layers.Dense(8, activation='relu'))\n",
    "model.add(keras.layers.Dense(1, activation='sigmoid'))\n",
    "model.summary()"
   ]
  },
  {
   "cell_type": "code",
   "execution_count": 7,
   "id": "655da7c7-587d-4761-9917-2471ac4ea23b",
   "metadata": {},
   "outputs": [],
   "source": [
    "model.compile(loss='binary_crossentropy', optimizer='adam', metrics=['accuracy'])\n",
    "MODEL_PATH = 'model/'\n",
    "\n",
    "if not os.path.exists(MODEL_PATH):\n",
    "    os.mkdir(MODEL_PATH)\n",
    "\n",
    "modelpath = MODEL_PATH + \"{epoch:02d}-{val_accuracy:.4f}.hdf5\"\n",
    "checkpointer = keras.callbacks.ModelCheckpoint(filepath=modelpath, verbose=1)"
   ]
  },
  {
   "cell_type": "code",
   "execution_count": 8,
   "id": "b73f7361-c08c-4f13-8316-f9126ac7ede2",
   "metadata": {},
   "outputs": [
    {
     "name": "stdout",
     "output_type": "stream",
     "text": [
      "\n",
      "Epoch 1: saving model to model\\01-0.9469.hdf5\n",
      "\n",
      "Epoch 2: saving model to model\\02-0.9485.hdf5\n",
      "\n",
      "Epoch 3: saving model to model\\03-0.9492.hdf5\n",
      "\n",
      "Epoch 4: saving model to model\\04-0.9569.hdf5\n",
      "\n",
      "Epoch 5: saving model to model\\05-0.9492.hdf5\n",
      "\n",
      "Epoch 6: saving model to model\\06-0.9500.hdf5\n",
      "\n",
      "Epoch 7: saving model to model\\07-0.9646.hdf5\n",
      "\n",
      "Epoch 8: saving model to model\\08-0.9577.hdf5\n",
      "\n",
      "Epoch 9: saving model to model\\09-0.9500.hdf5\n",
      "\n",
      "Epoch 10: saving model to model\\10-0.9585.hdf5\n",
      "\n",
      "Epoch 11: saving model to model\\11-0.9631.hdf5\n",
      "\n",
      "Epoch 12: saving model to model\\12-0.9600.hdf5\n",
      "\n",
      "Epoch 13: saving model to model\\13-0.9500.hdf5\n",
      "\n",
      "Epoch 14: saving model to model\\14-0.9492.hdf5\n",
      "\n",
      "Epoch 15: saving model to model\\15-0.9515.hdf5\n",
      "\n",
      "Epoch 16: saving model to model\\16-0.9500.hdf5\n",
      "\n",
      "Epoch 17: saving model to model\\17-0.9615.hdf5\n",
      "\n",
      "Epoch 18: saving model to model\\18-0.9592.hdf5\n",
      "\n",
      "Epoch 19: saving model to model\\19-0.9623.hdf5\n",
      "\n",
      "Epoch 20: saving model to model\\20-0.9615.hdf5\n",
      "\n",
      "Epoch 21: saving model to model\\21-0.9692.hdf5\n",
      "\n",
      "Epoch 22: saving model to model\\22-0.9723.hdf5\n",
      "\n",
      "Epoch 23: saving model to model\\23-0.9662.hdf5\n",
      "\n",
      "Epoch 24: saving model to model\\24-0.9631.hdf5\n",
      "\n",
      "Epoch 25: saving model to model\\25-0.9662.hdf5\n",
      "\n",
      "Epoch 26: saving model to model\\26-0.9654.hdf5\n",
      "\n",
      "Epoch 27: saving model to model\\27-0.9554.hdf5\n",
      "\n",
      "Epoch 28: saving model to model\\28-0.9623.hdf5\n",
      "\n",
      "Epoch 29: saving model to model\\29-0.9608.hdf5\n",
      "\n",
      "Epoch 30: saving model to model\\30-0.9677.hdf5\n",
      "\n",
      "Epoch 31: saving model to model\\31-0.9646.hdf5\n",
      "\n",
      "Epoch 32: saving model to model\\32-0.9577.hdf5\n",
      "\n",
      "Epoch 33: saving model to model\\33-0.9662.hdf5\n",
      "\n",
      "Epoch 34: saving model to model\\34-0.9692.hdf5\n",
      "\n",
      "Epoch 35: saving model to model\\35-0.9723.hdf5\n",
      "\n",
      "Epoch 36: saving model to model\\36-0.9715.hdf5\n",
      "\n",
      "Epoch 37: saving model to model\\37-0.9777.hdf5\n",
      "\n",
      "Epoch 38: saving model to model\\38-0.9746.hdf5\n",
      "\n",
      "Epoch 39: saving model to model\\39-0.9731.hdf5\n",
      "\n",
      "Epoch 40: saving model to model\\40-0.9738.hdf5\n",
      "\n",
      "Epoch 41: saving model to model\\41-0.9700.hdf5\n",
      "\n",
      "Epoch 42: saving model to model\\42-0.9708.hdf5\n",
      "\n",
      "Epoch 43: saving model to model\\43-0.9700.hdf5\n",
      "\n",
      "Epoch 44: saving model to model\\44-0.9700.hdf5\n",
      "\n",
      "Epoch 45: saving model to model\\45-0.9708.hdf5\n",
      "\n",
      "Epoch 46: saving model to model\\46-0.9792.hdf5\n",
      "\n",
      "Epoch 47: saving model to model\\47-0.9808.hdf5\n",
      "\n",
      "Epoch 48: saving model to model\\48-0.9762.hdf5\n",
      "\n",
      "Epoch 49: saving model to model\\49-0.9777.hdf5\n",
      "\n",
      "Epoch 50: saving model to model\\50-0.9800.hdf5\n"
     ]
    }
   ],
   "source": [
    "history = model.fit(X_train, y_train, epochs=50, batch_size=500, validation_split=0.25\n",
    "                    , verbose=0, callbacks=[checkpointer])"
   ]
  },
  {
   "cell_type": "code",
   "execution_count": 9,
   "id": "5f3f19e7-f334-4bba-a651-af8fd4914388",
   "metadata": {},
   "outputs": [
    {
     "name": "stdout",
     "output_type": "stream",
     "text": [
      "41/41 [==============================] - 0s 1ms/step - loss: 0.0936 - accuracy: 0.9738\n",
      "Test accuracy: 0.97\n"
     ]
    }
   ],
   "source": [
    "score=model.evaluate(X_test, y_test)\n",
    "print('Test accuracy: %.2f' % (score[1]))"
   ]
  },
  {
   "cell_type": "code",
   "execution_count": 10,
   "id": "186606af-cbf2-4653-8233-cbef0aa6100d",
   "metadata": {},
   "outputs": [
    {
     "name": "stdout",
     "output_type": "stream",
     "text": [
      "Model: \"sequential_1\"\n",
      "_________________________________________________________________\n",
      " Layer (type)                Output Shape              Param #   \n",
      "=================================================================\n",
      " dense_4 (Dense)             (None, 30)                390       \n",
      "                                                                 \n",
      " dense_5 (Dense)             (None, 12)                372       \n",
      "                                                                 \n",
      " dense_6 (Dense)             (None, 8)                 104       \n",
      "                                                                 \n",
      " dense_7 (Dense)             (None, 1)                 9         \n",
      "                                                                 \n",
      "=================================================================\n",
      "Total params: 875\n",
      "Trainable params: 875\n",
      "Non-trainable params: 0\n",
      "_________________________________________________________________\n"
     ]
    }
   ],
   "source": [
    "model = keras.Sequential()\n",
    "model.add(keras.Input(shape=(12,)))\n",
    "model.add(keras.layers.Dense(30, activation='relu'))\n",
    "model.add(keras.layers.Dense(12, activation='relu'))\n",
    "model.add(keras.layers.Dense(8, activation='relu'))\n",
    "model.add(keras.layers.Dense(1, activation='sigmoid'))\n",
    "model.summary()\n",
    "\n",
    "model.compile(loss='binary_crossentropy', optimizer='adam', metrics=['accuracy'])\n",
    "history = model.fit(X_train, y_train, epochs=2000, batch_size=500, validation_split=0.25, verbose=0)"
   ]
  },
  {
   "cell_type": "code",
   "execution_count": 11,
   "id": "a6ede992-9bd6-494e-a6bc-3a46a1aa3774",
   "metadata": {},
   "outputs": [
    {
     "data": {
      "text/html": [
       "<div>\n",
       "<style scoped>\n",
       "    .dataframe tbody tr th:only-of-type {\n",
       "        vertical-align: middle;\n",
       "    }\n",
       "\n",
       "    .dataframe tbody tr th {\n",
       "        vertical-align: top;\n",
       "    }\n",
       "\n",
       "    .dataframe thead th {\n",
       "        text-align: right;\n",
       "    }\n",
       "</style>\n",
       "<table border=\"1\" class=\"dataframe\">\n",
       "  <thead>\n",
       "    <tr style=\"text-align: right;\">\n",
       "      <th></th>\n",
       "      <th>loss</th>\n",
       "      <th>accuracy</th>\n",
       "      <th>val_loss</th>\n",
       "      <th>val_accuracy</th>\n",
       "    </tr>\n",
       "  </thead>\n",
       "  <tbody>\n",
       "    <tr>\n",
       "      <th>0</th>\n",
       "      <td>0.446701</td>\n",
       "      <td>0.759559</td>\n",
       "      <td>0.385547</td>\n",
       "      <td>0.787692</td>\n",
       "    </tr>\n",
       "    <tr>\n",
       "      <th>1</th>\n",
       "      <td>0.360421</td>\n",
       "      <td>0.821914</td>\n",
       "      <td>0.327280</td>\n",
       "      <td>0.851538</td>\n",
       "    </tr>\n",
       "    <tr>\n",
       "      <th>2</th>\n",
       "      <td>0.319982</td>\n",
       "      <td>0.855787</td>\n",
       "      <td>0.297549</td>\n",
       "      <td>0.866923</td>\n",
       "    </tr>\n",
       "    <tr>\n",
       "      <th>3</th>\n",
       "      <td>0.291826</td>\n",
       "      <td>0.876315</td>\n",
       "      <td>0.271895</td>\n",
       "      <td>0.888462</td>\n",
       "    </tr>\n",
       "    <tr>\n",
       "      <th>4</th>\n",
       "      <td>0.271842</td>\n",
       "      <td>0.892738</td>\n",
       "      <td>0.253263</td>\n",
       "      <td>0.898462</td>\n",
       "    </tr>\n",
       "    <tr>\n",
       "      <th>...</th>\n",
       "      <td>...</td>\n",
       "      <td>...</td>\n",
       "      <td>...</td>\n",
       "      <td>...</td>\n",
       "    </tr>\n",
       "    <tr>\n",
       "      <th>1995</th>\n",
       "      <td>0.030591</td>\n",
       "      <td>0.991275</td>\n",
       "      <td>0.063945</td>\n",
       "      <td>0.993077</td>\n",
       "    </tr>\n",
       "    <tr>\n",
       "      <th>1996</th>\n",
       "      <td>0.030071</td>\n",
       "      <td>0.989736</td>\n",
       "      <td>0.064488</td>\n",
       "      <td>0.993077</td>\n",
       "    </tr>\n",
       "    <tr>\n",
       "      <th>1997</th>\n",
       "      <td>0.030630</td>\n",
       "      <td>0.988966</td>\n",
       "      <td>0.062813</td>\n",
       "      <td>0.990769</td>\n",
       "    </tr>\n",
       "    <tr>\n",
       "      <th>1998</th>\n",
       "      <td>0.029778</td>\n",
       "      <td>0.992045</td>\n",
       "      <td>0.066608</td>\n",
       "      <td>0.991538</td>\n",
       "    </tr>\n",
       "    <tr>\n",
       "      <th>1999</th>\n",
       "      <td>0.033500</td>\n",
       "      <td>0.989992</td>\n",
       "      <td>0.064590</td>\n",
       "      <td>0.992308</td>\n",
       "    </tr>\n",
       "  </tbody>\n",
       "</table>\n",
       "<p>2000 rows × 4 columns</p>\n",
       "</div>"
      ],
      "text/plain": [
       "          loss  accuracy  val_loss  val_accuracy\n",
       "0     0.446701  0.759559  0.385547      0.787692\n",
       "1     0.360421  0.821914  0.327280      0.851538\n",
       "2     0.319982  0.855787  0.297549      0.866923\n",
       "3     0.291826  0.876315  0.271895      0.888462\n",
       "4     0.271842  0.892738  0.253263      0.898462\n",
       "...        ...       ...       ...           ...\n",
       "1995  0.030591  0.991275  0.063945      0.993077\n",
       "1996  0.030071  0.989736  0.064488      0.993077\n",
       "1997  0.030630  0.988966  0.062813      0.990769\n",
       "1998  0.029778  0.992045  0.066608      0.991538\n",
       "1999  0.033500  0.989992  0.064590      0.992308\n",
       "\n",
       "[2000 rows x 4 columns]"
      ]
     },
     "execution_count": 11,
     "metadata": {},
     "output_type": "execute_result"
    }
   ],
   "source": [
    "hist_df = pd.DataFrame(history.history)\n",
    "hist_df"
   ]
  },
  {
   "cell_type": "code",
   "execution_count": 12,
   "id": "5ba54cea-b9e5-4145-85cb-b930e5ff04c4",
   "metadata": {},
   "outputs": [
    {
     "data": {
      "image/png": "[encoded data removed]",
      "text/plain": [
       "<Figure size 640x480 with 1 Axes>"
      ]
     },
     "metadata": {},
     "output_type": "display_data"
    }
   ],
   "source": [
    "# y_vloss에 테스트셋(여기서는 검증셋)의 오차를 저장합니다.\n",
    "y_vloss = hist_df['val_loss']\n",
    "\n",
    "# y_loss에 학습셋의 오차를 저장합니다.\n",
    "y_loss = hist_df['loss']\n",
    "\n",
    "# x 값을 지정하고 테스트셋(검증셋)의 오차를 빨간색으로, 학습셋의 오차를 파란색으로 표시합니다.\n",
    "x_len = np.arange(len(y_loss))\n",
    "plt.plot(x_len, y_vloss, \"o\", c=\"red\", markersize=2, label='Testset_loss')\n",
    "plt.plot(x_len, y_loss, \"o\", c=\"blue\", markersize=2, label='Trainset_loss')\n",
    "\n",
    "plt.legend(loc='upper right')\n",
    "plt.xlabel('epoch')\n",
    "plt.ylabel('loss')\n",
    "plt.show()"
   ]
  },
  {
   "cell_type": "code",
   "execution_count": null,
   "id": "c7016c80-2e3c-4076-a244-18e7809408c4",
   "metadata": {},
   "outputs": [],
   "source": []
  }
 ],
 "metadata": {
  "kernelspec": {
   "display_name": "Python 3 (ipykernel)",
   "language": "python",
   "name": "python3"
  },
  "language_info": {
   "codemirror_mode": {
    "name": "ipython",
    "version": 3
   },
   "file_extension": ".py",
   "mimetype": "text/x-python",
   "name": "python",
   "nbconvert_exporter": "python",
   "pygments_lexer": "ipython3",
   "version": "3.10.13"
  }
 },
 "nbformat": 4,
 "nbformat_minor": 5
}
